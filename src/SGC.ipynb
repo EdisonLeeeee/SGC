{
 "cells": [
  {
   "cell_type": "markdown",
   "metadata": {
    "toc": true
   },
   "source": [
    "<h1>Table of Contents<span class=\"tocSkip\"></span></h1>\n",
    "<div class=\"toc\"><ul class=\"toc-item\"><li><span><a href=\"#Load-Dataset\" data-toc-modified-id=\"Load-Dataset-1\"><span class=\"toc-item-num\">1&nbsp;&nbsp;</span>Load Dataset</a></span></li><li><span><a href=\"#Vanilla-SGC\" data-toc-modified-id=\"Vanilla-SGC-2\"><span class=\"toc-item-num\">2&nbsp;&nbsp;</span>Vanilla SGC</a></span><ul class=\"toc-item\"><li><span><a href=\"#Train-and-test\" data-toc-modified-id=\"Train-and-test-2.1\"><span class=\"toc-item-num\">2.1&nbsp;&nbsp;</span>Train and test</a></span></li></ul></li><li><span><a href=\"#SGC-with-label-smoothing\" data-toc-modified-id=\"SGC-with-label-smoothing-3\"><span class=\"toc-item-num\">3&nbsp;&nbsp;</span>SGC with label smoothing</a></span><ul class=\"toc-item\"><li><span><a href=\"#Convert-to-one-hot\" data-toc-modified-id=\"Convert-to-one-hot-3.1\"><span class=\"toc-item-num\">3.1&nbsp;&nbsp;</span>Convert to one hot</a></span></li><li><span><a href=\"#Train-and-test\" data-toc-modified-id=\"Train-and-test-3.2\"><span class=\"toc-item-num\">3.2&nbsp;&nbsp;</span>Train and test</a></span></li></ul></li></ul></div>"
   ]
  },
  {
   "cell_type": "code",
   "execution_count": 1,
   "metadata": {},
   "outputs": [],
   "source": [
    "import tensorflow as tf\n",
    "from tensorflow import keras\n",
    "import numpy as np\n",
    "import matplotlib.pyplot as plt\n",
    "\n",
    "from input_data import Dataset"
   ]
  },
  {
   "cell_type": "markdown",
   "metadata": {},
   "source": [
    "# Load Dataset"
   ]
  },
  {
   "cell_type": "code",
   "execution_count": 2,
   "metadata": {},
   "outputs": [
    {
     "name": "stdout",
     "output_type": "stream",
     "text": [
      "Pre-processing time 0.02s\n"
     ]
    }
   ],
   "source": [
    "Data = Dataset('cora', seed=42)\n",
    "print(f'Pre-processing time {Data.precompute_time:.2f}s')"
   ]
  },
  {
   "cell_type": "markdown",
   "metadata": {},
   "source": [
    "# Vanilla SGC"
   ]
  },
  {
   "cell_type": "markdown",
   "metadata": {},
   "source": [
    "## Train and test"
   ]
  },
  {
   "cell_type": "code",
   "execution_count": 3,
   "metadata": {},
   "outputs": [
    {
     "name": "stdout",
     "output_type": "stream",
     "text": [
      "Converged after 18 iterations, accuracy 83.39%\n"
     ]
    }
   ],
   "source": [
    "tf.random.set_seed(42)\n",
    "SGC = keras.Sequential([keras.layers.Dense(units=Data.n_classes, kernel_regularizer=keras.regularizers.l2(1e-5), activation='softmax')])\n",
    "SGC.compile(optimizer=keras.optimizers.Adam(0.01), \n",
    "                loss=keras.losses.sparse_categorical_crossentropy,\n",
    "                metrics=['accuracy'])\n",
    "\n",
    "early_stopping = keras.callbacks.EarlyStopping(monitor='val_accuracy',\n",
    "                                                min_delta=1e-3,\n",
    "                                                patience=6,\n",
    "                                                mode='max',\n",
    "                                              )\n",
    "history = SGC.fit(x=Data.train_feat, \n",
    "                    y=Data.y_train, \n",
    "                    epochs=100, \n",
    "                    verbose=None,\n",
    "                    validation_data=(Data.val_feat, Data.y_val),\n",
    "                    shuffle=True,\n",
    "                    batch_size=128,\n",
    "                    callbacks=[early_stopping],\n",
    "    )\n",
    "loss, acc = SGC.evaluate(\n",
    "            x=Data.test_feat, \n",
    "            y=Data.y_test, \n",
    "            verbose=None,\n",
    "            batch_size=128\n",
    "            )\n",
    "print(f'Converged after {history.epoch[-1] + 1} iterations, accuracy {acc*100:.2f}%')"
   ]
  },
  {
   "cell_type": "code",
   "execution_count": 4,
   "metadata": {},
   "outputs": [
    {
     "data": {
      "image/png": "[encoded data removed]",
      "text/plain": [
       "<Figure size 432x288 with 1 Axes>"
      ]
     },
     "metadata": {
      "needs_background": "light"
     },
     "output_type": "display_data"
    }
   ],
   "source": [
    "plt.plot(history.history['accuracy'])\n",
    "plt.plot(history.history['val_accuracy'])\n",
    "plt.legend(['train accuracy', 'val accuracy'])\n",
    "plt.show()"
   ]
  },
  {
   "cell_type": "markdown",
   "metadata": {},
   "source": [
    "# SGC with label smoothing\n",
    "When we apply the cross-entropy loss to a classification task, we're expecting true labels to have 1, while the others 0. In other words, we have no doubts that the true labels are true, and the others are not. Is that always true? Maybe not. Many manual annotations are the results of multiple participants. They might have different criteria. They might make some mistakes. They are human, after all. As a result, the ground truth labels we have had perfect beliefs on are possible wrong.\n",
    "\n",
    "One possibile solution to this is to relax our confidence on the labels. For instance, we can slighly lower the loss target values from 1 to, say, 0.9. And naturally we increase the target value of 0 for the others slightly as such. This idea is called label smoothing.\n",
    "\n",
    "see also: [When Does Label Smoothing Help?](https://arxiv.org/abs/1906.02629) and [GitHub](https://github.com/Kyubyong/label_smoothing)"
   ]
  },
  {
   "cell_type": "markdown",
   "metadata": {},
   "source": [
    "## Convert to one hot"
   ]
  },
  {
   "cell_type": "code",
   "execution_count": 5,
   "metadata": {},
   "outputs": [],
   "source": [
    "one_hot = np.eye(Data.n_classes)\n",
    "y_train = one_hot[Data.y_train]\n",
    "\n",
    "# label smoothing\n",
    "confidence = 0.2\n",
    "y_train =  (1. - confidence)*y_train + confidence / Data.n_classes\n",
    "\n",
    "y_val = one_hot[Data.y_val]\n",
    "y_test = one_hot[Data.y_test]"
   ]
  },
  {
   "cell_type": "markdown",
   "metadata": {},
   "source": [
    "## Train and test"
   ]
  },
  {
   "cell_type": "code",
   "execution_count": 6,
   "metadata": {},
   "outputs": [
    {
     "name": "stdout",
     "output_type": "stream",
     "text": [
      "Converged after 20 iterations, accuracy 84.73%\n"
     ]
    }
   ],
   "source": [
    "tf.random.set_seed(42)\n",
    "SGC = keras.Sequential([keras.layers.Dense(units=Data.n_classes, kernel_regularizer=keras.regularizers.l2(1e-5), activation='softmax')])\n",
    "SGC.compile(optimizer=keras.optimizers.Adam(0.01), \n",
    "                loss=keras.losses.categorical_crossentropy,\n",
    "                metrics=['accuracy'])\n",
    "\n",
    "early_stopping = keras.callbacks.EarlyStopping(monitor='val_accuracy',\n",
    "                                                min_delta=1e-3,\n",
    "                                                patience=6,\n",
    "                                                mode='max',\n",
    "                                              )\n",
    "history = SGC.fit(x=Data.train_feat, \n",
    "                    y=y_train, \n",
    "                    epochs=100, \n",
    "                    verbose=None,\n",
    "                    validation_data=(Data.val_feat, y_val),\n",
    "                    shuffle=True,\n",
    "                    batch_size=128,\n",
    "                    callbacks=[early_stopping],\n",
    "    )\n",
    "loss, acc = SGC.evaluate(\n",
    "            x=Data.test_feat, \n",
    "            y=y_test, \n",
    "            verbose=None,\n",
    "            batch_size=128\n",
    "            )\n",
    "print(f'Converged after {history.epoch[-1] + 1} iterations, accuracy {acc*100:.2f}%')"
   ]
  },
  {
   "cell_type": "code",
   "execution_count": 7,
   "metadata": {},
   "outputs": [
    {
     "data": {
      "image/png": "[encoded data removed]",
      "text/plain": [
       "<Figure size 432x288 with 1 Axes>"
      ]
     },
     "metadata": {
      "needs_background": "light"
     },
     "output_type": "display_data"
    }
   ],
   "source": [
    "plt.plot(history.history['accuracy'])\n",
    "plt.plot(history.history['val_accuracy'])\n",
    "plt.legend(['train accuracy', 'val accuracy'])\n",
    "plt.show()"
   ]
  }
 ],
 "metadata": {
  "kernelspec": {
   "display_name": "Python 3",
   "language": "python",
   "name": "python3"
  },
  "language_info": {
   "codemirror_mode": {
    "name": "ipython",
    "version": 3
   },
   "file_extension": ".py",
   "mimetype": "text/x-python",
   "name": "python",
   "nbconvert_exporter": "python",
   "pygments_lexer": "ipython3",
   "version": "3.7.4"
  },
  "toc": {
   "base_numbering": 1,
   "nav_menu": {},
   "number_sections": true,
   "sideBar": true,
   "skip_h1_title": false,
   "title_cell": "Table of Contents",
   "title_sidebar": "Contents",
   "toc_cell": true,
   "toc_position": {},
   "toc_section_display": true,
   "toc_window_display": true
  },
  "varInspector": {
   "cols": {
    "lenName": 16,
    "lenType": 16,
    "lenVar": 40
   },
   "kernels_config": {
    "python": {
     "delete_cmd_postfix": "",
     "delete_cmd_prefix": "del ",
     "library": "var_list.py",
     "varRefreshCmd": "print(var_dic_list())"
    },
    "r": {
     "delete_cmd_postfix": ") ",
     "delete_cmd_prefix": "rm(",
     "library": "var_list.r",
     "varRefreshCmd": "cat(var_dic_list()) "
    }
   },
   "types_to_exclude": [
    "module",
    "function",
    "builtin_function_or_method",
    "instance",
    "_Feature"
   ],
   "window_display": false
  }
 },
 "nbformat": 4,
 "nbformat_minor": 4
}
