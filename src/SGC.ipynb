{
 "cells": [
  {
   "cell_type": "code",
   "execution_count": 1,
   "metadata": {},
   "outputs": [],
   "source": [
    "import tensorflow as tf\n",
    "from tensorflow import keras\n",
    "from input_data import Dataset\n",
    "import numpy as np\n",
    "import matplotlib.pyplot as plt"
   ]
  },
  {
   "cell_type": "markdown",
   "metadata": {},
   "source": [
    "# Load Dataset"
   ]
  },
  {
   "cell_type": "code",
   "execution_count": 2,
   "metadata": {},
   "outputs": [],
   "source": [
    "Data = Dataset('cora', seed=15)"
   ]
  },
  {
   "cell_type": "markdown",
   "metadata": {},
   "source": [
    "# Vanilla SGC"
   ]
  },
  {
   "cell_type": "markdown",
   "metadata": {},
   "source": [
    "## Train and test"
   ]
  },
  {
   "cell_type": "code",
   "execution_count": 3,
   "metadata": {},
   "outputs": [
    {
     "name": "stdout",
     "output_type": "stream",
     "text": [
      "Converged after 16 iterations, accuracy 84.96%\n"
     ]
    }
   ],
   "source": [
    "tf.random.set_seed(42)\n",
    "SGC = keras.Sequential([keras.layers.Dense(units=Data.n_classes, kernel_regularizer=keras.regularizers.l2(1e-5), activation='softmax')])\n",
    "SGC.compile(optimizer=keras.optimizers.Adam(0.01), \n",
    "                loss=keras.losses.sparse_categorical_crossentropy,\n",
    "                metrics=['accuracy'])\n",
    "\n",
    "early_stopping = keras.callbacks.EarlyStopping(monitor='val_accuracy',\n",
    "                                                min_delta=1e-3,\n",
    "                                                patience=5,\n",
    "                                                mode='max',\n",
    "                                              )\n",
    "history = SGC.fit(x=Data.train_feat, \n",
    "                    y=Data.y_train, \n",
    "                    epochs=100, \n",
    "                    verbose=None,\n",
    "                    validation_data=(Data.val_feat, Data.y_val),\n",
    "                    shuffle=True,\n",
    "                    batch_size=128,\n",
    "                    callbacks=[early_stopping],\n",
    "    )\n",
    "loss, acc = SGC.evaluate(\n",
    "            x=Data.test_feat, \n",
    "            y=Data.y_test, \n",
    "            verbose=None,\n",
    "            batch_size=128\n",
    "            )\n",
    "print(f'Converged after {history.epoch[-1]} iterations, accuracy {acc*100:.2f}%')"
   ]
  },
  {
   "cell_type": "code",
   "execution_count": 4,
   "metadata": {},
   "outputs": [
    {
     "data": {
      "text/plain": [
       "<matplotlib.legend.Legend at 0x7fec90272f50>"
      ]
     },
     "execution_count": 4,
     "metadata": {},
     "output_type": "execute_result"
    },
    {
     "data": {
      "image/png": "[encoded data removed]",
      "text/plain": [
       "<Figure size 432x288 with 1 Axes>"
      ]
     },
     "metadata": {
      "needs_background": "light"
     },
     "output_type": "display_data"
    }
   ],
   "source": [
    "plt.plot(history.history['accuracy'])\n",
    "plt.plot(history.history['val_accuracy'])\n",
    "plt.legend(['train accuracy', 'val accuracy'])"
   ]
  },
  {
   "cell_type": "markdown",
   "metadata": {},
   "source": [
    "# SGC with label smoothing"
   ]
  },
  {
   "cell_type": "markdown",
   "metadata": {},
   "source": [
    "## Convert to one hot"
   ]
  },
  {
   "cell_type": "code",
   "execution_count": 5,
   "metadata": {},
   "outputs": [],
   "source": [
    "one_hot = np.eye(Data.n_classes)\n",
    "y_train = one_hot[Data.y_train]\n",
    "\n",
    "# label smoothing\n",
    "confidence = 0.2\n",
    "y_train =  (1. - confidence)*y_train + confidence / Data.n_classes\n",
    "\n",
    "y_val = one_hot[Data.y_val]\n",
    "y_test = one_hot[Data.y_test]"
   ]
  },
  {
   "cell_type": "markdown",
   "metadata": {},
   "source": [
    "## Train and test"
   ]
  },
  {
   "cell_type": "code",
   "execution_count": 6,
   "metadata": {},
   "outputs": [
    {
     "name": "stdout",
     "output_type": "stream",
     "text": [
      "Converged after 14 iterations, accuracy 85.11%\n"
     ]
    }
   ],
   "source": [
    "tf.random.set_seed(42)\n",
    "SGC = keras.Sequential([keras.layers.Dense(units=Data.n_classes, kernel_regularizer=keras.regularizers.l2(1e-5), activation='softmax')])\n",
    "SGC.compile(optimizer=keras.optimizers.Adam(0.01), \n",
    "                loss=keras.losses.categorical_crossentropy,\n",
    "                metrics=['accuracy'])\n",
    "\n",
    "early_stopping = keras.callbacks.EarlyStopping(monitor='val_accuracy',\n",
    "                                                min_delta=1e-3,\n",
    "                                                patience=5,\n",
    "                                                mode='max',\n",
    "                                              )\n",
    "history = SGC.fit(x=Data.train_feat, \n",
    "                    y=y_train, \n",
    "                    epochs=100, \n",
    "                    verbose=None,\n",
    "                    validation_data=(Data.val_feat, y_val),\n",
    "                    shuffle=True,\n",
    "                    batch_size=128,\n",
    "                    callbacks=[early_stopping],\n",
    "    )\n",
    "loss, acc = SGC.evaluate(\n",
    "            x=Data.test_feat, \n",
    "            y=y_test, \n",
    "            verbose=None,\n",
    "            batch_size=128\n",
    "            )\n",
    "print(f'Converged after {history.epoch[-1]} iterations, accuracy {acc*100:.2f}%')"
   ]
  },
  {
   "cell_type": "code",
   "execution_count": 7,
   "metadata": {},
   "outputs": [
    {
     "data": {
      "text/plain": [
       "<matplotlib.legend.Legend at 0x7fec801cbb50>"
      ]
     },
     "execution_count": 7,
     "metadata": {},
     "output_type": "execute_result"
    },
    {
     "data": {
      "image/png": "[encoded data removed]",
      "text/plain": [
       "<Figure size 432x288 with 1 Axes>"
      ]
     },
     "metadata": {
      "needs_background": "light"
     },
     "output_type": "display_data"
    }
   ],
   "source": [
    "plt.plot(history.history['accuracy'])\n",
    "plt.plot(history.history['val_accuracy'])\n",
    "plt.legend(['train accuracy', 'val accuracy'])"
   ]
  }
 ],
 "metadata": {
  "kernelspec": {
   "display_name": "Python 3",
   "language": "python",
   "name": "python3"
  },
  "language_info": {
   "codemirror_mode": {
    "name": "ipython",
    "version": 3
   },
   "file_extension": ".py",
   "mimetype": "text/x-python",
   "name": "python",
   "nbconvert_exporter": "python",
   "pygments_lexer": "ipython3",
   "version": "3.7.4"
  }
 },
 "nbformat": 4,
 "nbformat_minor": 4
}
